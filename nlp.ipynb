{
 "cells": [
  {
   "cell_type": "code",
   "execution_count": 1,
   "metadata": {},
   "outputs": [],
   "source": [
    "import cython"
   ]
  },
  {
   "cell_type": "code",
   "execution_count": 9,
   "metadata": {},
   "outputs": [],
   "source": [
    "import numpy as np\n",
    "import pandas as pd\n",
    "import matplotlib.pyplot as plt\n",
    "import seaborn as sns\n",
    "%matplotlib inline\n",
    "import nltk\n",
    "\n",
    "# This program is to learn about Natural Language processing and how SKlearn can help do that\n",
    "# This particular program deals with seperateing spam messages with regular messages"
   ]
  },
  {
   "cell_type": "code",
   "execution_count": 10,
   "metadata": {},
   "outputs": [
    {
     "name": "stdout",
     "output_type": "stream",
     "text": [
      "0 ham\tGo until jurong point, crazy.. Available only in bugis n great world la e buffet... Cine there got amore wat...\n",
      "\n",
      "\n",
      "1 ham\tOk lar... Joking wif u oni...\n",
      "\n",
      "\n",
      "2 spam\tFree entry in 2 a wkly comp to win FA Cup final tkts 21st May 2005. Text FA to 87121 to receive entry question(std txt rate)T&C's apply 08452810075over18's\n",
      "\n",
      "\n",
      "3 ham\tU dun say so early hor... U c already then say...\n",
      "\n",
      "\n",
      "4 ham\tNah I don't think he goes to usf, he lives around here though\n",
      "\n",
      "\n",
      "5 spam\tFreeMsg Hey there darling it's been 3 week's now and no word back! I'd like some fun you up for it still? Tb ok! XxX std chgs to send, Â£1.50 to rcv\n",
      "\n",
      "\n",
      "6 ham\tEven my brother is not like to speak with me. They treat me like aids patent.\n",
      "\n",
      "\n",
      "7 ham\tAs per your request 'Melle Melle (Oru Minnaminunginte Nurungu Vettam)' has been set as your callertune for all Callers. Press *9 to copy your friends Callertune\n",
      "\n",
      "\n",
      "8 spam\tWINNER!! As a valued network customer you have been selected to receivea Â£900 prize reward! To claim call 09061701461. Claim code KL341. Valid 12 hours only.\n",
      "\n",
      "\n",
      "9 spam\tHad your mobile 11 months or more? U R entitled to Update to the latest colour mobiles with camera for Free! Call The Mobile Update Co FREE on 08002986030\n",
      "\n",
      "\n"
     ]
    }
   ],
   "source": [
    "# Start by opening words from a file\n",
    "messages = [line.rstrip() for line in open('smsspamcollection/SMSSpamCollection')]\n",
    "for mess_no, message in enumerate(messages[:10]):\n",
    "    print(mess_no, message)\n",
    "    print('\\n')"
   ]
  },
  {
   "cell_type": "code",
   "execution_count": 11,
   "metadata": {},
   "outputs": [
    {
     "data": {
      "text/plain": [
       "'ham\\tGo until jurong point, crazy.. Available only in bugis n great world la e buffet... Cine there got amore wat...'"
      ]
     },
     "execution_count": 11,
     "metadata": {},
     "output_type": "execute_result"
    }
   ],
   "source": [
    "# tab seperated file\n",
    "messages[0]"
   ]
  },
  {
   "cell_type": "code",
   "execution_count": 16,
   "metadata": {},
   "outputs": [
    {
     "name": "stdout",
     "output_type": "stream",
     "text": [
      "  label                                            message\n",
      "0   ham  Go until jurong point, crazy.. Available only ...\n",
      "1   ham                      Ok lar... Joking wif u oni...\n",
      "2  spam  Free entry in 2 a wkly comp to win FA Cup fina...\n",
      "3   ham  U dun say so early hor... U c already then say...\n",
      "4   ham  Nah I don't think he goes to usf, he lives aro...\n",
      "\n",
      "\n",
      "       label                 message\n",
      "count   5572                    5572\n",
      "unique     2                    5169\n",
      "top      ham  Sorry, I'll call later\n",
      "freq    4825                      30\n",
      "\n",
      "\n",
      "      message                                                               \n",
      "        count unique                                                top freq\n",
      "label                                                                       \n",
      "ham      4825   4516                             Sorry, I'll call later   30\n",
      "spam      747    653  Please call our customer service representativ...    4\n"
     ]
    }
   ],
   "source": [
    "# Dataframe with two columns, one with the label(ham/spam) and one with actual message\n",
    "# Ham is a regula message\n",
    "\n",
    "messages = pd.read_csv('smsspamcollection/SMSSpamCollection', sep='\\t', names=['label', 'message'])\n",
    "\n",
    "print(messages.head())\n",
    "print('\\n')\n",
    "print(messages.describe())\n",
    "print('\\n')\n",
    "print(messages.groupby('label').describe())"
   ]
  },
  {
   "cell_type": "code",
   "execution_count": 20,
   "metadata": {},
   "outputs": [
    {
     "data": {
      "text/plain": [
       "<matplotlib.axes._subplots.AxesSubplot at 0x13ec0823a20>"
      ]
     },
     "execution_count": 20,
     "metadata": {},
     "output_type": "execute_result"
    },
    {
     "data": {
      "image/png": "[encoded data removed]",
      "text/plain": [
       "<Figure size 432x288 with 1 Axes>"
      ]
     },
     "metadata": {},
     "output_type": "display_data"
    }
   ],
   "source": [
    "# Feature engineering\n",
    "# Add another column called length of message to do do visualization of the data\n",
    "\n",
    "messages['len_message'] = messages['message'].apply(len)\n",
    "\n",
    "messages['len_message'].plot.hist(bins=50)"
   ]
  },
  {
   "cell_type": "code",
   "execution_count": 21,
   "metadata": {},
   "outputs": [
    {
     "data": {
      "text/plain": [
       "count    5572.000000\n",
       "mean       80.489950\n",
       "std        59.942907\n",
       "min         2.000000\n",
       "25%        36.000000\n",
       "50%        62.000000\n",
       "75%       122.000000\n",
       "max       910.000000\n",
       "Name: len_message, dtype: float64"
      ]
     },
     "execution_count": 21,
     "metadata": {},
     "output_type": "execute_result"
    }
   ],
   "source": [
    "# Statistics for Length of Message Column\n",
    "messages['len_message'].describe()"
   ]
  },
  {
   "cell_type": "code",
   "execution_count": 22,
   "metadata": {},
   "outputs": [
    {
     "data": {
      "text/plain": [
       "\"For me the love should start with attraction.i should feel that I need her every time around me.she should be the first thing which comes in my thoughts.I would start the day and end it with her.she should be there every time I dream.love will be then when my every breath has her name.my life should happen around her.my life will be named to her.I would cry for her.will give all my happiness and take all her sorrows.I will be ready to fight with anyone for her.I will be in love when I will be doing the craziest things for her.love will be when I don't have to proove anyone that my girl is the most beautiful lady on the whole planet.I will always be singing praises for her.love will be when I start up making chicken curry and end up makiing sambar.life will be the most beautiful then.will get every morning and thank god for the day because she is with me.I would like to say a lot..will tell later..\""
      ]
     },
     "execution_count": 22,
     "metadata": {},
     "output_type": "execute_result"
    }
   ],
   "source": [
    "# Longest Message\n",
    "messages[messages['len_message']==910]['message'].iloc[0]"
   ]
  },
  {
   "cell_type": "code",
   "execution_count": 23,
   "metadata": {},
   "outputs": [
    {
     "data": {
      "text/plain": [
       "array([<matplotlib.axes._subplots.AxesSubplot object at 0x0000013EC09F0780>,\n",
       "       <matplotlib.axes._subplots.AxesSubplot object at 0x0000013EC0EB97B8>], dtype=object)"
      ]
     },
     "execution_count": 23,
     "metadata": {},
     "output_type": "execute_result"
    },
    {
     "data": {
      "image/png": "[encoded data removed]",
      "text/plain": [
       "<Figure size 720x288 with 2 Axes>"
      ]
     },
     "metadata": {},
     "output_type": "display_data"
    }
   ],
   "source": [
    "# Length of messages average for Spam is about 150, Ham is about 50\n",
    "messages.hist(column='len_message', by='label', bins=60, figsize=(10,4))"
   ]
  },
  {
   "cell_type": "code",
   "execution_count": 25,
   "metadata": {},
   "outputs": [],
   "source": [
    "# CountVectorizer converts a list of text messages into a sparse matrix\n",
    "\n",
    "from sklearn.feature_extraction.text import CountVectorizer"
   ]
  },
  {
   "cell_type": "code",
   "execution_count": 34,
   "metadata": {},
   "outputs": [
    {
     "name": "stdout",
     "output_type": "stream",
     "text": [
      "<class 'scipy.sparse.csr.csr_matrix'>\n"
     ]
    }
   ],
   "source": [
    "# Initialize CountVectorizer Object\n",
    "vec = CountVectorizer()\n",
    "\n",
    "# Create a List from the messages column of the messages dataframe\n",
    "lst_messages = [x for x in messages['message']]\n",
    "\n",
    "# Create a Sparse matrix\n",
    "messages_vectorizer = vec.fit_transform(lst_messages)\n",
    "print(type(messages_vectorizer))"
   ]
  },
  {
   "cell_type": "code",
   "execution_count": 40,
   "metadata": {},
   "outputs": [],
   "source": [
    "# String has attribute for punctuation\n",
    "import string\n",
    "\n",
    "# nltk.corpus has 'stopwords' which is a variety of words that dont matter for our spam/ham message detector\n",
    "from nltk.corpus import stopwords"
   ]
  },
  {
   "cell_type": "code",
   "execution_count": 56,
   "metadata": {},
   "outputs": [
    {
     "name": "stdout",
     "output_type": "stream",
     "text": [
      "Original Message\n",
      "1. Sample Message! Notice: it has punctuation.\n",
      "\n",
      "Message without Puncuation\n",
      "2. Sample Message Notice it has punctuation\n",
      "\n",
      "Cleaned /message without stopwords\n",
      "3. Sample Message Notice punctuation\n"
     ]
    }
   ],
   "source": [
    "# Example Message\n",
    "mess = 'Sample Message! Notice: it has punctuation.'\n",
    "no_punc=[c for c in mess if c not in string.punctuation]\n",
    "no_punc = ''.join(no_punc)\n",
    "# no_punc.split()\n",
    "clean_mess = [word for word in no_punc.split() if word.lower() not in stopwords.words('english')]\n",
    "clean_mess = ' '.join(clean_mess)\n",
    "print('Original Message')\n",
    "print('1.',mess)\n",
    "print()\n",
    "print('Message without Puncuation')\n",
    "print('2.',no_punc)\n",
    "print()\n",
    "print('Cleaned /message without stopwords')\n",
    "print('3.',clean_mess)"
   ]
  },
  {
   "cell_type": "code",
   "execution_count": 57,
   "metadata": {},
   "outputs": [],
   "source": [
    "# This function does the process shown above\n",
    "def text_process(mess):\n",
    "    '''\n",
    "    1. remove punc\n",
    "    2. remove stopords\n",
    "    3. return clean words\n",
    "    '''\n",
    "    nopunc = [char for char in mess if char not in string.punctuation]\n",
    "    nopunc = ''.join(nopunc)\n",
    "    clean = [word for word in nopunc.split() if word.lower() not in stopwords.words('english')]\n",
    "    return clean"
   ]
  },
  {
   "cell_type": "code",
   "execution_count": 67,
   "metadata": {},
   "outputs": [
    {
     "name": "stdout",
     "output_type": "stream",
     "text": [
      "Original Head of the Column Messages:\n",
      " 0    Go until jurong point, crazy.. Available only ...\n",
      "1                        Ok lar... Joking wif u oni...\n",
      "2    Free entry in 2 a wkly comp to win FA Cup fina...\n",
      "3    U dun say so early hor... U c already then say...\n",
      "4    Nah I don't think he goes to usf, he lives aro...\n",
      "Name: message, dtype: object\n",
      "\n",
      "New Head of the Column Messages:\n",
      " 0    [Go, jurong, point, crazy, Available, bugis, n...\n",
      "1                       [Ok, lar, Joking, wif, u, oni]\n",
      "2    [Free, entry, 2, wkly, comp, win, FA, Cup, fin...\n",
      "3        [U, dun, say, early, hor, U, c, already, say]\n",
      "4    [Nah, dont, think, goes, usf, lives, around, t...\n",
      "Name: message, dtype: object\n",
      "\n",
      "\n",
      "Notice Row three has no \"in or to\"\n"
     ]
    }
   ],
   "source": [
    "print('Original Head of the Column Messages:\\n',messages['message'].head())\n",
    "print()\n",
    "print('New Head of the Column Messages:\\n',messages['message'].head().apply(text_process))\n",
    "print('\\n\\nNotice Row three has no \"in or to\"')"
   ]
  },
  {
   "cell_type": "code",
   "execution_count": 70,
   "metadata": {},
   "outputs": [],
   "source": [
    "# Sparse matrices save on memory in the computer\n",
    "from sklearn.feature_extraction.text import CountVectorizer\n",
    "# Use analyzer parameter to clean all the messages\n",
    "# bow_transformer is a CountVectorizer Object that has the clean messages \n",
    "bow_transformer = CountVectorizer(analyzer=text_process).fit(messages['message'])"
   ]
  },
  {
   "cell_type": "code",
   "execution_count": 76,
   "metadata": {},
   "outputs": [
    {
     "name": "stdout",
     "output_type": "stream",
     "text": [
      "CountVectorizer(analyzer=<function text_process at 0x0000013EC12C47B8>,\n",
      "        binary=False, decode_error='strict', dtype=<class 'numpy.int64'>,\n",
      "        encoding='utf-8', input='content', lowercase=True, max_df=1.0,\n",
      "        max_features=None, min_df=1, ngram_range=(1, 1), preprocessor=None,\n",
      "        stop_words=None, strip_accents=None,\n",
      "        token_pattern='(?u)\\\\b\\\\w\\\\w+\\\\b', tokenizer=None, vocabulary=None)\n"
     ]
    }
   ],
   "source": [
    "print(bow_transformer)"
   ]
  },
  {
   "cell_type": "code",
   "execution_count": 78,
   "metadata": {},
   "outputs": [
    {
     "data": {
      "text/plain": [
       "11425"
      ]
     },
     "execution_count": 78,
     "metadata": {},
     "output_type": "execute_result"
    }
   ],
   "source": [
    "# 11425 features of the sparse matrix\n",
    "len(bow_transformer.get_feature_names())"
   ]
  },
  {
   "cell_type": "code",
   "execution_count": 86,
   "metadata": {},
   "outputs": [
    {
     "name": "stdout",
     "output_type": "stream",
     "text": [
      "<class 'sklearn.feature_extraction.text.CountVectorizer'>\n"
     ]
    }
   ],
   "source": [
    "print(type(bow_transformer))"
   ]
  },
  {
   "cell_type": "code",
   "execution_count": 81,
   "metadata": {},
   "outputs": [],
   "source": [
    "# Transforming the matrix into an actual spare matrix we can use for spam detection\n",
    "\n",
    "messages_bow = bow_transformer.transform(messages['message'])"
   ]
  },
  {
   "cell_type": "code",
   "execution_count": 85,
   "metadata": {},
   "outputs": [
    {
     "name": "stdout",
     "output_type": "stream",
     "text": [
      "Shape of the sparse matrix:  (5572, 11425)\n"
     ]
    }
   ],
   "source": [
    "# message_bow is a bag of words spare matrix from all the words in messages['message']\n",
    "print('Shape of the sparse matrix: ', messages_bow.shape)"
   ]
  },
  {
   "cell_type": "code",
   "execution_count": 91,
   "metadata": {},
   "outputs": [
    {
     "name": "stdout",
     "output_type": "stream",
     "text": [
      "Shape of the sparse matrix:  (5572, 11425)\n",
      "sparsity 0.07940295412668218\n",
      "<class 'scipy.sparse.csr.csr_matrix'>\n"
     ]
    }
   ],
   "source": [
    "# Sparsity = numer/denom, messages_bow.nnz are the non-zero elements of the sparse matrix\n",
    "denom = messages_bow.shape[0] * messages_bow.shape[1]\n",
    "numer = 100 * messages_bow.nnz\n",
    "\n",
    "# message_bow is a bag of words spare matrix from all the words in messages['message']\n",
    "print('Shape of the sparse matrix: ', messages_bow.shape)\n",
    "print('sparsity' , numer/denom)\n",
    "print(type(messages_bow))\n"
   ]
  },
  {
   "cell_type": "code",
   "execution_count": 92,
   "metadata": {},
   "outputs": [],
   "source": [
    "# TF-IDF\n",
    "# short for term frequency–inverse document frequency, is a \n",
    "# numerical statistic that is intended to reflect how important \n",
    "# a word is to a document in a collection or corpus.\n",
    "from sklearn.feature_extraction.text import TfidfTransformer"
   ]
  },
  {
   "cell_type": "code",
   "execution_count": 93,
   "metadata": {},
   "outputs": [],
   "source": [
    "# Use the TFIDF Transformer to fit and transform the bag of words\n",
    "tfidf_transformer = TfidfTransformer().fit(messages_bow)\n",
    "messages_tfidf = tfidf_transformer.transform(messages_bow)"
   ]
  },
  {
   "cell_type": "code",
   "execution_count": 94,
   "metadata": {},
   "outputs": [
    {
     "name": "stdout",
     "output_type": "stream",
     "text": [
      "(5572, 11425)\n"
     ]
    }
   ],
   "source": [
    "print(messages_tfidf.shape)"
   ]
  },
  {
   "cell_type": "code",
   "execution_count": 95,
   "metadata": {},
   "outputs": [],
   "source": [
    "# Use MutlinomialNB for analysis\n",
    "from sklearn.naive_bayes import MultinomialNB\n",
    "from sklearn.pipeline import Pipeline\n",
    "from sklearn.metrics import classification_report, confusion_matrix"
   ]
  },
  {
   "cell_type": "code",
   "execution_count": 100,
   "metadata": {},
   "outputs": [],
   "source": [
    "# split the data in X, y\n",
    "# X: messages\n",
    "# y: spam/ham\n",
    "# Our Pipline will:\n",
    "# 1. Make CountVectorizer Object\n",
    "# 2. Transform the data into a sparse matrix\n",
    "# 3. Classify the data using Multinomial Naive Bayes\n",
    "X = messages['message']\n",
    "y = messages['label']\n",
    "\n",
    "msg_train, msg_test, label_train, label_test = train_test_split(X, y, test_size=0.25)\n",
    "\n",
    "pipeline = Pipeline([\n",
    "    ('count_vec', CountVectorizer(analyzer=text_process)),\n",
    "    ('tdidf', TfidfTransformer()),\n",
    "    ('nb', MultinomialNB())\n",
    "])"
   ]
  },
  {
   "cell_type": "code",
   "execution_count": 101,
   "metadata": {},
   "outputs": [
    {
     "data": {
      "text/plain": [
       "Pipeline(memory=None,\n",
       "     steps=[('count_vec', CountVectorizer(analyzer=<function text_process at 0x0000013EC12C47B8>,\n",
       "        binary=False, decode_error='strict', dtype=<class 'numpy.int64'>,\n",
       "        encoding='utf-8', input='content', lowercase=True, max_df=1.0,\n",
       "        max_features=None, min_df=1, ngram_range=(1, 1), prepr...linear_tf=False, use_idf=True)), ('nb', MultinomialNB(alpha=1.0, class_prior=None, fit_prior=True))])"
      ]
     },
     "execution_count": 101,
     "metadata": {},
     "output_type": "execute_result"
    }
   ],
   "source": [
    "pipeline.fit(msg_train, label_train)\n",
    "preds = pipeline.predict(msg_test)"
   ]
  },
  {
   "cell_type": "code",
   "execution_count": 104,
   "metadata": {},
   "outputs": [
    {
     "name": "stdout",
     "output_type": "stream",
     "text": [
      "             precision    recall  f1-score   support\n",
      "\n",
      "        ham       0.96      1.00      0.98      1216\n",
      "       spam       1.00      0.68      0.81       177\n",
      "\n",
      "avg / total       0.96      0.96      0.96      1393\n",
      "\n",
      "[[1216    0]\n",
      " [  56  121]]\n"
     ]
    }
   ],
   "source": [
    "print(classification_report(label_test, preds))\n",
    "print(confusion_matrix(label_test, preds))"
   ]
  },
  {
   "cell_type": "code",
   "execution_count": 105,
   "metadata": {},
   "outputs": [
    {
     "name": "stdout",
     "output_type": "stream",
     "text": [
      "             precision    recall  f1-score   support\n",
      "\n",
      "        ham       0.96      1.00      0.98      1221\n",
      "       spam       1.00      0.68      0.81       172\n",
      "\n",
      "avg / total       0.96      0.96      0.96      1393\n",
      "\n",
      "[[1221    0]\n",
      " [  55  117]]\n"
     ]
    }
   ],
   "source": [
    "# Trying Logistic regression classifier instead of naive bayes\n",
    "# How can these things be sped up???\n",
    "from sklearn.linear_model import LogisticRegression\n",
    "\n",
    "X_log = messages['message']\n",
    "y_log = messages['label']\n",
    "\n",
    "msg_train_log, msg_test_log, label_train_log, label_test_log = train_test_split(X_log, y_log, test_size=0.25)\n",
    "\n",
    "pipeline = Pipeline([\n",
    "    ('count_vec', CountVectorizer(analyzer=text_process)),\n",
    "    ('tdidf', TfidfTransformer()),\n",
    "    ('lg', LogisticRegression())\n",
    "])\n",
    "\n",
    "pipeline.fit(msg_train_log, label_train_log)\n",
    "preds_log = pipeline.predict(msg_test_log)\n",
    "\n",
    "# Does about the same as Naive Bayes\n",
    "print(classification_report(label_test_log, preds_log))\n",
    "print(confusion_matrix(label_test_log, preds_log))"
   ]
  },
  {
   "cell_type": "code",
   "execution_count": null,
   "metadata": {},
   "outputs": [],
   "source": []
  }
 ],
 "metadata": {
  "kernelspec": {
   "display_name": "Python 3",
   "language": "python",
   "name": "python3"
  },
  "language_info": {
   "codemirror_mode": {
    "name": "ipython",
    "version": 3
   },
   "file_extension": ".py",
   "mimetype": "text/x-python",
   "name": "python",
   "nbconvert_exporter": "python",
   "pygments_lexer": "ipython3",
   "version": "3.6.6"
  }
 },
 "nbformat": 4,
 "nbformat_minor": 2
}
